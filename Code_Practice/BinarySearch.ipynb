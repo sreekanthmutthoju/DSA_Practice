{
 "cells": [
  {
   "cell_type": "markdown",
   "metadata": {},
   "source": [
    "### Binary search in sorted array"
   ]
  },
  {
   "cell_type": "code",
   "execution_count": 2,
   "metadata": {},
   "outputs": [],
   "source": [
    "#Recursive approach\n",
    "# Time complexity - O(log N)\n",
    "\n",
    "def binarySearch(arr,i,j,x):\n",
    "    ## Single Element search\n",
    "    ## For single element, O(1)\n",
    "    if i==j:\n",
    "        if arr[i]==x:\n",
    "            return i\n",
    "        else:\n",
    "            return -1\n",
    "\n",
    "    else:\n",
    "        mid = (i+j)//2\n",
    "        if arr[mid] == x:\n",
    "            return mid\n",
    "        elif arr[mid]< x:\n",
    "            return binarySearch(arr,mid+1,j,x)\n",
    "        else:\n",
    "            return binarySearch(arr,i,mid-1,x)"
   ]
  },
  {
   "cell_type": "code",
   "execution_count": 5,
   "metadata": {},
   "outputs": [
    {
     "name": "stdout",
     "output_type": "stream",
     "text": [
      "Searching value is present at index : 7\n"
     ]
    }
   ],
   "source": [
    "#Driver code\n",
    "\n",
    "arr = [10,12,15,25,36,45,55,99]\n",
    "i = 0\n",
    "j = len(arr)-1\n",
    "\n",
    "x = 99\n",
    "\n",
    "result = binarySearch(arr,i,j,x)\n",
    "\n",
    "print (\"Searching value is present at index :\",result)"
   ]
  },
  {
   "cell_type": "code",
   "execution_count": 1,
   "metadata": {},
   "outputs": [],
   "source": [
    "# Iterative approach\n",
    "\n",
    "def bs(arr,i,j,x):\n",
    "    while i<= j:\n",
    "\n",
    "        if i==j:\n",
    "            if arr[i]==x:\n",
    "                return i\n",
    "            else:\n",
    "                return -1\n",
    "\n",
    "        else:\n",
    "            mid = (i+j)//2\n",
    "            if arr[mid]==x:\n",
    "                return mid\n",
    "            elif arr[mid]<x:\n",
    "                i=mid+1\n",
    "            else:\n",
    "                j=mid-1\n",
    "            "
   ]
  },
  {
   "cell_type": "code",
   "execution_count": 4,
   "metadata": {},
   "outputs": [
    {
     "name": "stdout",
     "output_type": "stream",
     "text": [
      "Searching value is present at index : -1\n"
     ]
    }
   ],
   "source": [
    "#Driver code\n",
    "\n",
    "arr = [10,12,15,25,36,45,55,99]\n",
    "i = 0\n",
    "j = len(arr)-1\n",
    "\n",
    "x = 88\n",
    "\n",
    "result = bs(arr,i,j,x)\n",
    "\n",
    "print (\"Searching value is present at index :\",result)"
   ]
  },
  {
   "cell_type": "markdown",
   "metadata": {},
   "source": [
    "### Matrix sorted search"
   ]
  },
  {
   "cell_type": "code",
   "execution_count": 12,
   "metadata": {},
   "outputs": [],
   "source": [
    "# Sample question\n",
    "\n",
    "def matsearch(a,target):\n",
    "    i = 0\n",
    "    #no. of columns\n",
    "    j = len(a[0])-1\n",
    "    #no. of rows\n",
    "    n = len(a) \n",
    "\n",
    "    #Time complexity is O(n)\n",
    "\n",
    "    while i<n and j>=0:\n",
    "        if a[i][j]==target:\n",
    "            return i,j\n",
    "        elif a[i][j]<target:\n",
    "            i+=1\n",
    "        else:\n",
    "            j-=1\n",
    "    return False\n",
    "            \n"
   ]
  },
  {
   "cell_type": "code",
   "execution_count": 14,
   "metadata": {},
   "outputs": [
    {
     "name": "stdout",
     "output_type": "stream",
     "text": [
      "row and column loc of element False\n"
     ]
    }
   ],
   "source": [
    "# Sample question\n",
    "\n",
    "import numpy as np\n",
    "\n",
    "a = np.array([[1,2,3,4],\n",
    "            [5,6,7,8],\n",
    "            [9,10,11,12],\n",
    "            [13,14,15,16]])\n",
    "\n",
    "target = 102\n",
    "\n",
    "result = matsearch(a, target)\n",
    "\n",
    "print(\"row and column loc of element\",result)"
   ]
  },
  {
   "cell_type": "code",
   "execution_count": 33,
   "metadata": {},
   "outputs": [],
   "source": [
    "#Brute force approach\n",
    "def matbrute(a,target):\n",
    "    i = 0\n",
    "\n",
    "\n",
    "    for i in range(len(a)):\n",
    "        for j in range(len(a[0])):\n",
    "            \n",
    "            if a[i][j] == target:\n",
    "                return i,j\n",
    "            j+=1 \n",
    "        i+=1   \n",
    "    else:\n",
    "        return False\n",
    "                \n",
    "        "
   ]
  },
  {
   "cell_type": "code",
   "execution_count": 36,
   "metadata": {},
   "outputs": [
    {
     "name": "stdout",
     "output_type": "stream",
     "text": [
      "row and column loc of element (2, 1)\n"
     ]
    }
   ],
   "source": [
    "import numpy as np\n",
    "\n",
    "a = np.array([[1,2,3,4],\n",
    "            [5,6,7,8],\n",
    "            [9,10,11,12],\n",
    "            [13,14,15,16]])\n",
    "\n",
    "target = 10\n",
    "\n",
    "result = matbrute(a, target)\n",
    "\n",
    "print(\"row and column loc of element\",result)"
   ]
  },
  {
   "cell_type": "code",
   "execution_count": null,
   "metadata": {},
   "outputs": [],
   "source": []
  }
 ],
 "metadata": {
  "kernelspec": {
   "display_name": "Python 3.9.7 ('base')",
   "language": "python",
   "name": "python3"
  },
  "language_info": {
   "codemirror_mode": {
    "name": "ipython",
    "version": 3
   },
   "file_extension": ".py",
   "mimetype": "text/x-python",
   "name": "python",
   "nbconvert_exporter": "python",
   "pygments_lexer": "ipython3",
   "version": "3.9.7"
  },
  "orig_nbformat": 4,
  "vscode": {
   "interpreter": {
    "hash": "ad2bdc8ecc057115af97d19610ffacc2b4e99fae6737bb82f5d7fb13d2f2c186"
   }
  }
 },
 "nbformat": 4,
 "nbformat_minor": 2
}
